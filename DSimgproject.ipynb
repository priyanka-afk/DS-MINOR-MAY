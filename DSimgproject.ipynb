{
  "nbformat": 4,
  "nbformat_minor": 0,
  "metadata": {
    "colab": {
      "name": "DSimgproject.ipynb",
      "provenance": [],
      "collapsed_sections": [],
      "authorship_tag": "ABX9TyNPpVV0QymNN/ouLHmpeCe2",
      "include_colab_link": true
    },
    "kernelspec": {
      "name": "python3",
      "display_name": "Python 3"
    },
    "language_info": {
      "name": "python"
    }
  },
  "cells": [
    {
      "cell_type": "markdown",
      "metadata": {
        "id": "view-in-github",
        "colab_type": "text"
      },
      "source": [
        "<a href=\"https://colab.research.google.com/github/priyanka-afk/DS-MINOR-MAY/blob/main/DSimgproject.ipynb\" target=\"_parent\"><img src=\"https://colab.research.google.com/assets/colab-badge.svg\" alt=\"Open In Colab\"/></a>"
      ]
    },
    {
      "cell_type": "code",
      "metadata": {
        "colab": {
          "base_uri": "https://localhost:8080/"
        },
        "id": "Vnt97rj3KDr-",
        "outputId": "079fee00-2977-47ca-d5ce-b0027a135f72"
      },
      "source": [
        "!pip install ipython-autotime\n",
        "%load_ext autotime"
      ],
      "execution_count": 1,
      "outputs": [
        {
          "output_type": "stream",
          "text": [
            "Collecting ipython-autotime\n",
            "  Downloading https://files.pythonhosted.org/packages/b4/c9/b413a24f759641bc27ef98c144b590023c8038dfb8a3f09e713e9dff12c1/ipython_autotime-0.3.1-py2.py3-none-any.whl\n",
            "Requirement already satisfied: ipython in /usr/local/lib/python3.7/dist-packages (from ipython-autotime) (5.5.0)\n",
            "Requirement already satisfied: setuptools>=18.5 in /usr/local/lib/python3.7/dist-packages (from ipython->ipython-autotime) (57.0.0)\n",
            "Requirement already satisfied: pygments in /usr/local/lib/python3.7/dist-packages (from ipython->ipython-autotime) (2.6.1)\n",
            "Requirement already satisfied: traitlets>=4.2 in /usr/local/lib/python3.7/dist-packages (from ipython->ipython-autotime) (5.0.5)\n",
            "Requirement already satisfied: pickleshare in /usr/local/lib/python3.7/dist-packages (from ipython->ipython-autotime) (0.7.5)\n",
            "Requirement already satisfied: decorator in /usr/local/lib/python3.7/dist-packages (from ipython->ipython-autotime) (4.4.2)\n",
            "Requirement already satisfied: prompt-toolkit<2.0.0,>=1.0.4 in /usr/local/lib/python3.7/dist-packages (from ipython->ipython-autotime) (1.0.18)\n",
            "Requirement already satisfied: simplegeneric>0.8 in /usr/local/lib/python3.7/dist-packages (from ipython->ipython-autotime) (0.8.1)\n",
            "Requirement already satisfied: pexpect; sys_platform != \"win32\" in /usr/local/lib/python3.7/dist-packages (from ipython->ipython-autotime) (4.8.0)\n",
            "Requirement already satisfied: ipython-genutils in /usr/local/lib/python3.7/dist-packages (from traitlets>=4.2->ipython->ipython-autotime) (0.2.0)\n",
            "Requirement already satisfied: wcwidth in /usr/local/lib/python3.7/dist-packages (from prompt-toolkit<2.0.0,>=1.0.4->ipython->ipython-autotime) (0.2.5)\n",
            "Requirement already satisfied: six>=1.9.0 in /usr/local/lib/python3.7/dist-packages (from prompt-toolkit<2.0.0,>=1.0.4->ipython->ipython-autotime) (1.15.0)\n",
            "Requirement already satisfied: ptyprocess>=0.5 in /usr/local/lib/python3.7/dist-packages (from pexpect; sys_platform != \"win32\"->ipython->ipython-autotime) (0.7.0)\n",
            "Installing collected packages: ipython-autotime\n",
            "Successfully installed ipython-autotime-0.3.1\n",
            "time: 2.42 ms (started: 2021-06-23 13:56:51 +00:00)\n"
          ],
          "name": "stdout"
        }
      ]
    },
    {
      "cell_type": "code",
      "metadata": {
        "colab": {
          "base_uri": "https://localhost:8080/"
        },
        "id": "qHjqEEBMKNan",
        "outputId": "f0fe6bae-2b28-4aec-8f7a-1c0ef1c123b5"
      },
      "source": [
        "!pip install bing-image-downloader"
      ],
      "execution_count": 2,
      "outputs": [
        {
          "output_type": "stream",
          "text": [
            "Collecting bing-image-downloader\n",
            "  Downloading https://files.pythonhosted.org/packages/c2/04/1872a689a30036aa0b81ac9fca124a7413cad71fdab714f727cf1a34b671/bing_image_downloader-1.1.1-py3-none-any.whl\n",
            "Installing collected packages: bing-image-downloader\n",
            "Successfully installed bing-image-downloader-1.1.1\n",
            "time: 3.14 s (started: 2021-06-23 13:56:58 +00:00)\n"
          ],
          "name": "stdout"
        }
      ]
    },
    {
      "cell_type": "code",
      "metadata": {
        "colab": {
          "base_uri": "https://localhost:8080/"
        },
        "id": "XFqt7BddKRW1",
        "outputId": "89deed73-dd9a-4831-b8ac-9aa0b43473f3"
      },
      "source": [
        "!mkdir images"
      ],
      "execution_count": 3,
      "outputs": [
        {
          "output_type": "stream",
          "text": [
            "time: 123 ms (started: 2021-06-23 13:57:14 +00:00)\n"
          ],
          "name": "stdout"
        }
      ]
    },
    {
      "cell_type": "code",
      "metadata": {
        "colab": {
          "base_uri": "https://localhost:8080/"
        },
        "id": "aawVLj5cKU-V",
        "outputId": "7e098959-9b2a-4af0-aa86-80b8fa2f11ba"
      },
      "source": [
        "from bing_image_downloader import downloader\n",
        "downloader.download(\"Shirt\",limit=30,output_dir='images',adult_filter_off=True)"
      ],
      "execution_count": 4,
      "outputs": [
        {
          "output_type": "stream",
          "text": [
            "[%] Downloading Images to /content/images/Shirt\n",
            "\n",
            "\n",
            "[!!]Indexing page: 1\n",
            "\n",
            "[%] Indexed 30 Images on Page 1.\n",
            "\n",
            "===============================================\n",
            "\n",
            "[%] Downloading Image #1 from https://images.sellbrite.com/production/18706/1623-202932-883682592038-XS/72f43c10-d424-518f-b72f-62d947c16077.jpg\n",
            "[%] File Downloaded !\n",
            "\n",
            "[%] Downloading Image #2 from https://images.sellbrite.com/production/18706/1201-MD086C067F-889347688405-S/796d2f55-7dd8-5054-bbf5-dd45957b2224.jpg\n",
            "[%] File Downloaded !\n",
            "\n",
            "[%] Downloading Image #3 from https://cdnb.lystit.com/photos/3be6-2015/10/23/true-religion-red-hand-picked-football-mens-t-shirt-red-product-1-305155657-normal.jpeg\n",
            "[%] File Downloaded !\n",
            "\n",
            "[%] Downloading Image #4 from https://cdna.lystit.com/photos/e966-2014/09/03/true-religion--logo-eagle-v-neck-womens-t-shirt-product-1-23102192-3-415066317-normal.jpeg\n",
            "[%] File Downloaded !\n",
            "\n",
            "[%] Downloading Image #5 from http://www.brother2brother.co.uk/images/true-religion-true-religion-black-crafted-with-pride-crew-neck-t-shirt-p4637-6539_image.jpg\n",
            "[%] File Downloaded !\n",
            "\n",
            "[%] Downloading Image #6 from https://i5.walmartimages.com/asr/f9249a2f-4eb0-4b04-8de2-77750e82b754_1.651d0d22c9b5e04e43f9034f6843b1cd.jpeg\n",
            "[%] File Downloaded !\n",
            "\n",
            "[%] Downloading Image #7 from https://images.sellbrite.com/production/18706/0810-202933-883682588741-XS/cad541cd-5fe0-524e-9fbd-be90fd9e737f.jpg\n",
            "[%] File Downloaded !\n",
            "\n",
            "[%] Downloading Image #8 from https://images.sellbrite.com/production/18706/1373-103039-883682423684-XS/1c71b12f-7dff-5a91-89b1-cd7a36e2219f.jpg\n",
            "[%] File Downloaded !\n",
            "\n",
            "[%] Downloading Image #9 from https://cdna.lystit.com/photos/dillards/86f64a06/true-religion-Night-Fall-Metallic-Gold-True-Short-sleeve-T-shirt.jpeg\n",
            "[%] File Downloaded !\n",
            "\n",
            "[%] Downloading Image #10 from https://cdnb.lystit.com/photos/neimanmarcus/64d53cbd/true-religion-WHITE-Mens-Logo-Outline-Graphic-T-shirt.jpeg\n",
            "[%] File Downloaded !\n",
            "\n",
            "[%] Downloading Image #11 from https://images.sportsdirect.com/images/imgzoom/59/59916103_xxl_a1.jpg\n",
            "[%] File Downloaded !\n",
            "\n",
            "[%] Downloading Image #12 from https://cdna.lystit.com/photos/5dd3-2014/08/22/true-religion--double-puff-crew-neck-mens-t-shirt-product-1-22739888-1-423467613-normal.jpeg\n",
            "[%] File Downloaded !\n",
            "\n",
            "[%] Downloading Image #13 from https://images.flannels.com/images/imgzoom/59/59887701_xxl_a2.jpg\n",
            "[%] File Downloaded !\n",
            "\n",
            "[%] Downloading Image #14 from https://cdnd.lystit.com/photos/13fe-2014/09/03/true-religion--logo-eagle-v-neck-womens-t-shirt-product-1-23102192-1-415066120-normal.jpeg\n",
            "[%] File Downloaded !\n",
            "\n",
            "[%] Downloading Image #15 from https://www.julesb.com/images/products/1498822301-21764200.jpg\n",
            "[%] File Downloaded !\n",
            "\n",
            "[%] Downloading Image #16 from https://cdna.lystit.com/photos/2013/12/10/true-religion-red-tshirt-puff-logo-back-print-product-1-15984026-354721858.jpeg\n",
            "[%] File Downloaded !\n",
            "\n",
            "[%] Downloading Image #17 from https://images.sellbrite.com/production/18706/0086-202341-883682422410-M/45ed6216-9f20-5a6d-bb04-62a8d1bd48f3.jpg\n",
            "[%] File Downloaded !\n",
            "\n",
            "[%] Downloading Image #18 from https://cdnd.lystit.com/photos/c820-2015/09/11/true-religion-white-buddha-print-cotton-t-shirt-product-4-592629526-normal.jpeg\n",
            "[%] File Downloaded !\n",
            "\n",
            "[%] Downloading Image #19 from https://images.flannels.com/images/imgzoom/59/59237103_xxl_a2.jpg\n",
            "[%] File Downloaded !\n",
            "\n",
            "[%] Downloading Image #20 from https://cdnc.lystit.com/photos/6a45-2015/01/19/true-religion--hand-picked-true-r-football-mens-t-shirt-product-1-27191864-1-586292956-normal.jpeg\n",
            "[%] File Downloaded !\n",
            "\n",
            "[%] Downloading Image #21 from https://cdna.lystit.com/photos/cc8a-2015/02/21/true-religion-white-california-t-shirt-product-1-28070700-0-718139773-normal.jpeg\n",
            "[%] File Downloaded !\n",
            "\n",
            "[%] Downloading Image #22 from https://www.repertoirefashion.co.uk/images/true-religion-jeans-mens-true-religion-california-usa-t-shirt-crew-neck-chalk-pink-tee-p30901-111634_image.jpg\n",
            "[%] File Downloaded !\n",
            "\n",
            "[%] Downloading Image #23 from https://www.julesb.com.au/images/products/1500640319-25629100.jpg\n",
            "[%] File Downloaded !\n",
            "\n",
            "[%] Downloading Image #24 from https://kendrablanca.com/wp-content/uploads/2019/06/TRUE_SHIRT_30438aa4-eda0-4a54-9dce-13806d10669b.jpeg\n",
            "[%] File Downloaded !\n",
            "\n",
            "[%] Downloading Image #25 from https://cdn.usmall.ru/178/22/09/943715ade28b95845a0425edd4a973ce.jpeg\n",
            "[%] File Downloaded !\n",
            "\n",
            "[%] Downloading Image #26 from https://images.sellbrite.com/production/18706/0386-MB170WQ7-SDB/b7bbf141-097e-5c86-91e4-7aac7b4414e6.jpg\n",
            "[%] File Downloaded !\n",
            "\n",
            "[%] Downloading Image #27 from https://www.tactics.com/a/cda4/9/burton-brtn-t-shirt-true-penny.jpg\n",
            "[Error]Invalid image, not saving https://www.tactics.com/a/cda4/9/burton-brtn-t-shirt-true-penny.jpg\n",
            "\n",
            "[!] Issue getting: https://www.tactics.com/a/cda4/9/burton-brtn-t-shirt-true-penny.jpg\n",
            "[!] Error:: Invalid image, not saving https://www.tactics.com/a/cda4/9/burton-brtn-t-shirt-true-penny.jpg\n",
            "\n",
            "[%] Downloading Image #27 from https://www.safehomeconsulting.com/media/catalog/product/cache/1/image/9df78eab33525d08d6e5fb8d27136e95/t/r/trueblue_front_1000x1000_1.jpg\n",
            "[!] Issue getting: https://www.safehomeconsulting.com/media/catalog/product/cache/1/image/9df78eab33525d08d6e5fb8d27136e95/t/r/trueblue_front_1000x1000_1.jpg\n",
            "[!] Error:: HTTP Error 403: Forbidden\n",
            "[%] Downloading Image #27 from https://cdnb.lystit.com/photos/2c71-2015/09/23/true-religion-red-t-shirt-product-0-313355181-normal.jpeg\n",
            "[%] File Downloaded !\n",
            "\n",
            "[%] Downloading Image #28 from https://www.chameleonmenswear.co.uk/images/true-religion-buddha-t-shirt-p24095-54692_image.jpg\n",
            "[%] File Downloaded !\n",
            "\n",
            "\n",
            "\n",
            "[!!]Indexing page: 2\n",
            "\n",
            "[%] Indexed 35 Images on Page 2.\n",
            "\n",
            "===============================================\n",
            "\n",
            "[%] Downloading Image #29 from https://images.sellbrite.com/production/18706/1623-202932-883682592038-XS/72f43c10-d424-518f-b72f-62d947c16077.jpg\n",
            "[%] File Downloaded !\n",
            "\n",
            "[%] Downloading Image #30 from https://images.sellbrite.com/production/18706/1201-MD086C067F-889347688405-S/796d2f55-7dd8-5054-bbf5-dd45957b2224.jpg\n",
            "[%] File Downloaded !\n",
            "\n",
            "\n",
            "\n",
            "[%] Done. Downloaded 30 images.\n",
            "===============================================\n",
            "\n",
            "Please show your support here\n",
            "https://www.buymeacoffee.com/gurugaurav\n",
            "\n",
            "===============================================\n",
            "\n",
            "time: 45.6 s (started: 2021-06-23 13:58:22 +00:00)\n"
          ],
          "name": "stdout"
        }
      ]
    },
    {
      "cell_type": "code",
      "metadata": {
        "colab": {
          "base_uri": "https://localhost:8080/"
        },
        "id": "_pRkOEk2KlP9",
        "outputId": "f1433c60-ec82-4ce0-cf2f-f79fdd75766a"
      },
      "source": [
        "downloader.download(\"Jeans\",limit=30,output_dir='images',adult_filter_off=True)"
      ],
      "execution_count": 5,
      "outputs": [
        {
          "output_type": "stream",
          "text": [
            "[%] Downloading Images to /content/images/Jeans\n",
            "\n",
            "\n",
            "[!!]Indexing page: 1\n",
            "\n",
            "[%] Indexed 30 Images on Page 1.\n",
            "\n",
            "===============================================\n",
            "\n",
            "[%] Downloading Image #1 from http://cdna.lystit.com/photos/2011/12/16/true-religion-brand-jeans-missouri-ricky-vintage-jeans-product-3-2546511-309744467.jpeg\n",
            "[%] File Downloaded !\n",
            "\n",
            "[%] Downloading Image #2 from http://cdna.lystit.com/photos/2013/07/20/true-religion-brand-jeans-twisted-thorns-bobby-straight-leg-jeans-product-2-12004217-520356586.jpeg\n",
            "[%] File Downloaded !\n",
            "\n",
            "[%] Downloading Image #3 from https://n.nordstrommedia.com/id/sr3/87da53f0-3d03-459b-bfb2-2460e439843a.jpeg?crop=pad&amp;pad_color=FFF&amp;format=jpeg&amp;w=780&amp;h=1196\n",
            "[%] File Downloaded !\n",
            "\n",
            "[%] Downloading Image #4 from http://n.nordstrommedia.com/ImageGallery/store/product/Zoom/17/_9326437.jpg?crop=pad&amp;pad_color=FFF&amp;format=jpeg&amp;w=704&amp;h=1080\n",
            "[%] File Downloaded !\n",
            "\n",
            "[%] Downloading Image #5 from http://www.modestern.de/bilder/produkte/gross/true-religion-damen-jeans-becky.jpg\n",
            "[%] File Downloaded !\n",
            "\n",
            "[%] Downloading Image #6 from https://cdna.lystit.com/photos/2013/08/08/true-religion-monte-billy-bootcut-jeans-product-2-12516061-424749792.jpeg\n",
            "[%] File Downloaded !\n",
            "\n",
            "[%] Downloading Image #7 from https://cdna.lystit.com/photos/bloomingdales/1cb90196/true-religion-Vintage-Ink-Cora-Straight-leg-Jeans-In-Vintage-Ink.jpeg\n",
            "[%] File Downloaded !\n",
            "\n",
            "[%] Downloading Image #8 from https://cdnb.lystit.com/photos/1424-2015/11/06/true-religion-blue-geno-painted-alley-denim-jeans-product-0-044420707-normal.jpeg\n",
            "[%] File Downloaded !\n",
            "\n",
            "[%] Downloading Image #9 from https://cdnc.lystit.com/photos/638b-2014/07/09/true-religion-gold-jeans-joey-original-low-rise-flare-in-destroyed-flared-jeans-product-1-21495686-1-488449618-normal.jpeg\n",
            "[%] File Downloaded !\n",
            "\n",
            "[%] Downloading Image #10 from https://cdna.lystit.com/photos/nordstromrack/67a816d9/true-religion-Gfbd-Billy-Flap-Pocket-Bootcut-Jeans.jpeg\n",
            "[%] File Downloaded !\n",
            "\n",
            "[%] Downloading Image #11 from http://cdnd.lystit.com/photos/2012/08/24/true-religion-brand-jeans-stingray-casey-skinny-stretch-jeans-product-2-4517966-160689148.jpeg\n",
            "[%] File Downloaded !\n",
            "\n",
            "[%] Downloading Image #12 from https://www.accentclothing.com/images/true-religion-rocco-relaxed-skinny-jeans-p4898-17563_image.jpg\n",
            "[%] File Downloaded !\n",
            "\n",
            "[%] Downloading Image #13 from https://cdnb.lystit.com/photos/c963-2015/06/14/true-religion-indigo-jeans-rocco-slim-fit-old-preshrunk-blue-product-1-405823311-normal.jpeg\n",
            "[%] File Downloaded !\n",
            "\n",
            "[%] Downloading Image #14 from https://cdnb.lystit.com/photos/6b8e-2014/03/12/true-religion-blue-jeans-rocco-slim-fit-lonestar-dark-wash-straight-jeans-product-1-18364361-3-897733701-normal.jpeg\n",
            "[%] File Downloaded !\n",
            "\n",
            "[%] Downloading Image #15 from https://www.hautelookcdn.com/products/102677/large/10693314.jpg\n",
            "[%] File Downloaded !\n",
            "\n",
            "[%] Downloading Image #16 from https://n.nordstrommedia.com/id/sr3/6c8b78c5-be3c-4f60-8fe9-321b715b6fe1.jpeg?crop=pad&amp;pad_color=FFF&amp;format=jpeg&amp;w=780&amp;h=1196\n",
            "[%] File Downloaded !\n",
            "\n",
            "[%] Downloading Image #17 from http://www.swerve.co.uk/images/products/zoom/1484235228-35252500.jpg\n",
            "[%] File Downloaded !\n",
            "\n",
            "[%] Downloading Image #18 from https://cdna.lystit.com/photos/2013/04/15/true-religion-houston-becky-bootcut-jeans-product-2-7844009-769677061.jpeg\n",
            "[%] File Downloaded !\n",
            "\n",
            "[%] Downloading Image #19 from https://cdna.lystit.com/photos/d807-2015/12/10/true-religion-medium-blue-ricky-distressed-denim-jeans-blue-product-1-998005744-normal.jpeg\n",
            "[%] File Downloaded !\n",
            "\n",
            "[%] Downloading Image #20 from https://n.nordstrommedia.com/id/sr3/cd299c08-7444-455e-a176-d9670169d79a.jpeg?crop=pad&amp;pad_color=FFF&amp;format=jpeg&amp;w=780&amp;h=1196\n",
            "[%] File Downloaded !\n",
            "\n",
            "[%] Downloading Image #21 from https://cdnc.lystit.com/photos/c28d-2014/12/28/true-religion-black-jeans-rocco-moto-slim-fit-in-black-product-1-26757419-2-902761855-normal.jpeg\n",
            "[%] File Downloaded !\n",
            "\n",
            "[%] Downloading Image #22 from https://cdna.lystit.com/photos/e622-2015/01/02/true-religion--jeans-natural-big-t-ricky-relaxed-straight-fit-in-dusty-bleachers-product-1-26851976-2-605834055-normal.jpeg\n",
            "[%] File Downloaded !\n",
            "\n",
            "[%] Downloading Image #23 from https://cdna.lystit.com/photos/2013/04/08/true-religion-defiance-avery-bootcut-jeans-product-3-7704431-638920320.jpeg\n",
            "[%] File Downloaded !\n",
            "\n",
            "[%] Downloading Image #24 from https://www.sageclothing.co.uk/images/true-religion-jeans-regular-fit-m16us61g1g-sgdb-p10135-132858_image.jpg\n",
            "[%] File Downloaded !\n",
            "\n",
            "[%] Downloading Image #25 from http://images.n22menswear.com/images/true-religion-jack-slim-fit-lpd-pioneer-jeans-p2562-12231_image.jpg\n",
            "[!] Issue getting: http://images.n22menswear.com/images/true-religion-jack-slim-fit-lpd-pioneer-jeans-p2562-12231_image.jpg\n",
            "[!] Error:: <urlopen error timed out>\n",
            "[%] Downloading Image #25 from https://cdna.lystit.com/photos/nordstromrack/6b131322/true-religion-EHWD-REVOL-Straight-Leg-Run-Stitch-Jeans.jpeg\n",
            "[%] File Downloaded !\n",
            "\n",
            "[%] Downloading Image #26 from https://cdnd.lystit.com/photos/67a3-2015/08/09/true-religion-blue-geno-urban-dweller-denim-jeans-product-2-973699811-normal.jpeg\n",
            "[%] File Downloaded !\n",
            "\n",
            "[%] Downloading Image #27 from https://cdnb.lystit.com/photos/nordstrom/0446059c/true-religion-Endless-Road-Rocco-Skinny-Fit-Jeans.jpeg\n",
            "[%] File Downloaded !\n",
            "\n",
            "[%] Downloading Image #28 from https://n.io.nordstrommedia.com/id/sr3/2ae6f8be-0720-4b6e-bddb-6e70561170b0.jpeg?crop=pad&amp;pad_color=FFF&amp;format=jpeg&amp;w=780&amp;h=1196\n",
            "[%] File Downloaded !\n",
            "\n",
            "[%] Downloading Image #29 from http://www.truereligionjeansoutlets.us.com/images/pic/145_p_g658.jpg\n",
            "[%] File Downloaded !\n",
            "\n",
            "\n",
            "\n",
            "[!!]Indexing page: 2\n",
            "\n",
            "[%] Indexed 35 Images on Page 2.\n",
            "\n",
            "===============================================\n",
            "\n",
            "[%] Downloading Image #30 from http://cdna.lystit.com/photos/2011/12/16/true-religion-brand-jeans-missouri-ricky-vintage-jeans-product-3-2546511-309744467.jpeg\n",
            "[%] File Downloaded !\n",
            "\n",
            "\n",
            "\n",
            "[%] Done. Downloaded 30 images.\n",
            "===============================================\n",
            "\n",
            "Please show your support here\n",
            "https://www.buymeacoffee.com/gurugaurav\n",
            "\n",
            "===============================================\n",
            "\n",
            "time: 1min 18s (started: 2021-06-23 13:59:32 +00:00)\n"
          ],
          "name": "stdout"
        }
      ]
    },
    {
      "cell_type": "code",
      "metadata": {
        "colab": {
          "base_uri": "https://localhost:8080/"
        },
        "id": "i0GLZyuUK12v",
        "outputId": "96d06c52-ae06-4a95-c1c7-e3ea8de38de1"
      },
      "source": [
        "downloader.download(\"Cap\",limit=30,output_dir='images',adult_filter_off=True)"
      ],
      "execution_count": 6,
      "outputs": [
        {
          "output_type": "stream",
          "text": [
            "[%] Downloading Images to /content/images/Cap\n",
            "\n",
            "\n",
            "[!!]Indexing page: 1\n",
            "\n",
            "[%] Indexed 30 Images on Page 1.\n",
            "\n",
            "===============================================\n",
            "\n",
            "[%] Downloading Image #1 from https://mytoys.scene7.com/is/image/myToys/ext/11418569-01.jpg?$rtf_mt_prod-main-zoom_xl$\n",
            "[%] File Downloaded !\n",
            "\n",
            "[%] Downloading Image #2 from https://d3e5uhtl1mkepc.cloudfront.net/res/view_one1000/87002474-e3bf-4346-8a75-e4c68e9b516f.jpg\n",
            "[%] File Downloaded !\n",
            "\n",
            "[%] Downloading Image #3 from https://d3e5uhtl1mkepc.cloudfront.net/res/view_one1000/219572a9-b4e4-42cb-8c70-549d31baf660.jpg\n",
            "[%] File Downloaded !\n",
            "\n",
            "[%] Downloading Image #4 from https://www.todozapatillas.es/62002-thickbox_default/nike-true-cap-futura-nino.jpg\n",
            "[%] File Downloaded !\n",
            "\n",
            "[%] Downloading Image #5 from https://daka.xcdn.nl/xlarge/012299-71_2/nike-psg-u-true-cap-squad.jpg\n",
            "[%] File Downloaded !\n",
            "\n",
            "[%] Downloading Image #6 from https://d34xpxcpbnz20f.cloudfront.net/media/catalog/product/n/i/nike_true_swoosh_cap.jpeg\n",
            "[%] File Downloaded !\n",
            "\n",
            "[%] Downloading Image #7 from https://www.sportdepo.ru/gallery/dpgm0005025b.jpeg\n",
            "[%] File Downloaded !\n",
            "\n",
            "[%] Downloading Image #8 from https://d3e5uhtl1mkepc.cloudfront.net/res/product_1000/4c1338ab-526a-4dd4-8c04-a9d075274d43.jpg\n",
            "[%] File Downloaded !\n",
            "\n",
            "[%] Downloading Image #9 from https://thumblr-1.uniid.it/product/139248/1de42f52c804.jpg\n",
            "[%] File Downloaded !\n",
            "\n",
            "[%] Downloading Image #10 from https://todak.com/store/wp-content/uploads/2018/12/Left2-2.jpg\n",
            "[%] File Downloaded !\n",
            "\n",
            "[%] Downloading Image #11 from https://i.otto.de/i/otto/17682029/nike-sportswear-f-c-true-strapback-cap-grau.jpg?$formatz$\n",
            "[%] File Downloaded !\n",
            "\n",
            "[%] Downloading Image #12 from http://cdna.lystit.com/photos/2012/06/20/true-religion-brand-jeans-navy-xxx-baseball-cap-product-2-3965919-296087210.jpeg\n",
            "[%] File Downloaded !\n",
            "\n",
            "[%] Downloading Image #13 from https://i.otto.de/i/otto/16244480/nike-sportswear-tech-true-snapback-cap-dunkelblau-schwarz.jpg?$formatz$\n",
            "[%] File Downloaded !\n",
            "\n",
            "[%] Downloading Image #14 from http://cdnb.lystit.com/photos/2012/06/20/true-religion-brand-jeans-redwood-xxx-baseball-cap-product-2-3965920-296070377.jpeg\n",
            "[%] File Downloaded !\n",
            "\n",
            "[%] Downloading Image #15 from https://cdnd.lystit.com/photos/truereligion/TR2115-True%20Red-7923bca0-.jpeg\n",
            "[%] File Downloaded !\n",
            "\n",
            "[%] Downloading Image #16 from https://images.flannels.com/images/imgzoom/39/39028103_xxl.jpg\n",
            "[%] File Downloaded !\n",
            "\n",
            "[%] Downloading Image #17 from http://www.meinsportline.de/media/catalog/product/l/r/lrg-cap-true-heads-1a.jpg\n",
            "[%] File Downloaded !\n",
            "\n",
            "[%] Downloading Image #18 from https://www.jonathantrumbull.co.uk/images/true-religion-tr1988-navy-cap-p76611-88160_medium.jpg\n",
            "[%] File Downloaded !\n",
            "\n",
            "[%] Downloading Image #19 from https://cdna.lystit.com/photos/1271-2014/08/22/true-religion-blue-denim-baseball-cap-product-1-22740013-2-404336040-normal.jpeg\n",
            "[%] File Downloaded !\n",
            "\n",
            "[%] Downloading Image #20 from https://cdnc.lystit.com/photos/2011/12/02/true-religion-navy-script-logo-baseball-cap-product-1-2039033-580011666.jpeg\n",
            "[%] File Downloaded !\n",
            "\n",
            "[%] Downloading Image #21 from https://www.julesb.com/images/products/1580141335-26195200.jpg\n",
            "[%] File Downloaded !\n",
            "\n",
            "[%] Downloading Image #22 from http://cdnb.lystit.com/photos/b59a-2014/01/28/true-religion-brown-wool-felt-baseball-cap-product-1-17079757-0-694619109-normal.jpeg\n",
            "[%] File Downloaded !\n",
            "\n",
            "[%] Downloading Image #23 from http://cdnc.lystit.com/photos/2012/07/04/true-religion-brand-jeans-army-xxx-baseball-cap-product-2-4064366-459918024.jpeg\n",
            "[%] File Downloaded !\n",
            "\n",
            "[%] Downloading Image #24 from https://www.brother2brother.co.uk/images/true-religion-tr1837-true-religion-factory-grey-brown-snap-back-cap-p3060-2555_image.jpg\n",
            "[%] File Downloaded !\n",
            "\n",
            "[%] Downloading Image #25 from http://images.sellbrite.com/production/32990/1493682111-003TR1995/5b5df18b-3a3e-5eb3-8a08-bd5063fee7f7.jpg\n",
            "[%] File Downloaded !\n",
            "\n",
            "[%] Downloading Image #26 from https://images.sellbrite.com/production/32990/TRHAT_TR1989_NAVY/6dd34465-16e4-5b5e-8848-2c5e0d3a0955.jpg\n",
            "[%] File Downloaded !\n",
            "\n",
            "[%] Downloading Image #27 from https://cdna.lystit.com/photos/9ef5-2014/01/28/true-religion-green-graphic-print-baseball-cap-product-1-17079755-0-694394379-normal.jpeg\n",
            "[%] File Downloaded !\n",
            "\n",
            "[%] Downloading Image #28 from https://cdnd.lystit.com/photos/truereligion/ecb5f4d0/true-religion-Black-Core-Buddha-Baseball-Cap.jpeg\n",
            "[%] File Downloaded !\n",
            "\n",
            "[%] Downloading Image #29 from https://www.brother2brother.co.uk/images/true-religion-camo-perforated-strapback-cap-p8526-18273_image.jpg\n",
            "[%] File Downloaded !\n",
            "\n",
            "[%] Downloading Image #30 from https://cdnd.lystit.com/photos/5800-2014/01/28/true-religion-red-plaid-wool-baseball-cap-product-1-17079756-0-694545813-normal.jpeg\n",
            "[%] File Downloaded !\n",
            "\n",
            "\n",
            "\n",
            "[%] Done. Downloaded 30 images.\n",
            "===============================================\n",
            "\n",
            "Please show your support here\n",
            "https://www.buymeacoffee.com/gurugaurav\n",
            "\n",
            "===============================================\n",
            "\n",
            "time: 32.5 s (started: 2021-06-23 14:01:49 +00:00)\n"
          ],
          "name": "stdout"
        }
      ]
    },
    {
      "cell_type": "code",
      "metadata": {
        "colab": {
          "base_uri": "https://localhost:8080/"
        },
        "id": "XZIMTlvQLDkI",
        "outputId": "d41e50c3-bfce-408e-c094-cb3443668157"
      },
      "source": [
        "import numpy as np"
      ],
      "execution_count": 7,
      "outputs": [
        {
          "output_type": "stream",
          "text": [
            "time: 1.31 ms (started: 2021-06-23 14:03:12 +00:00)\n"
          ],
          "name": "stdout"
        }
      ]
    },
    {
      "cell_type": "code",
      "metadata": {
        "colab": {
          "base_uri": "https://localhost:8080/"
        },
        "id": "DtgzcrF9LEhy",
        "outputId": "b17ce0df-4484-49cc-ed3b-65194b223070"
      },
      "source": [
        "a=np.array([[1,2,3,4,5],\n",
        "           [4,5,6,7,8]])\n",
        "a.ndim\n",
        "a.flatten()"
      ],
      "execution_count": 9,
      "outputs": [
        {
          "output_type": "execute_result",
          "data": {
            "text/plain": [
              "array([1, 2, 3, 4, 5, 4, 5, 6, 7, 8])"
            ]
          },
          "metadata": {
            "tags": []
          },
          "execution_count": 9
        },
        {
          "output_type": "stream",
          "text": [
            "time: 11.2 ms (started: 2021-06-23 14:03:47 +00:00)\n"
          ],
          "name": "stdout"
        }
      ]
    },
    {
      "cell_type": "code",
      "metadata": {
        "colab": {
          "base_uri": "https://localhost:8080/",
          "height": 287
        },
        "id": "OViBSwwsLK15",
        "outputId": "7df86c7d-a055-4bed-8887-7a5a921d9d89"
      },
      "source": [
        "import os\n",
        "import matplotlib.pyplot as plt\n",
        "import numpy as np\n",
        "from skimage.io import imread\n",
        "from skimage.transform import resize\n",
        "\n",
        "target= []\n",
        "images= []\n",
        "flat_data= []\n",
        "\n",
        "DATADIR ='/content/images'\n",
        "CATEGORIES=['Shirt','Jeans','Cap']\n",
        "\n",
        "for category in CATEGORIES:\n",
        "  class_num= CATEGORIES.index(category)  #LABEL encoding the values\n",
        "  path = os.path.join(DATADIR,category)  #Create path to use all the images\n",
        "  for img in os.listdir(path):\n",
        "    img_array = imread(os.path.join(path,img))\n",
        "    #print(img_array.shape)\n",
        "    plt.imshow(img_array)\n",
        "    img_resized= resize(img_array,(150,150,3)) #normalises tha values from0 to 1\n",
        "    img_resized.flatten()\n",
        "    flat_data.append(img_resized.flatten())\n",
        "    target.append(class_num)\n",
        "\n",
        "flat_data= np.array(flat_data)\n",
        "target =np.array(target)\n",
        "images= np.array(images)"
      ],
      "execution_count": 10,
      "outputs": [
        {
          "output_type": "display_data",
          "data": {
            "image/png": "[encoded data removed]",
            "text/plain": [
              "<Figure size 432x288 with 1 Axes>"
            ]
          },
          "metadata": {
            "tags": [],
            "needs_background": "light"
          }
        },
        {
          "output_type": "stream",
          "text": [
            "time: 56.1 s (started: 2021-06-23 14:03:52 +00:00)\n"
          ],
          "name": "stdout"
        }
      ]
    },
    {
      "cell_type": "code",
      "metadata": {
        "colab": {
          "base_uri": "https://localhost:8080/"
        },
        "id": "xVBuUH15LXR7",
        "outputId": "0bcab66c-5174-4581-9854-0b9be1f7b5ca"
      },
      "source": [
        "len(flat_data[0])"
      ],
      "execution_count": 11,
      "outputs": [
        {
          "output_type": "execute_result",
          "data": {
            "text/plain": [
              "67500"
            ]
          },
          "metadata": {
            "tags": []
          },
          "execution_count": 11
        },
        {
          "output_type": "stream",
          "text": [
            "time: 5.39 ms (started: 2021-06-23 14:05:25 +00:00)\n"
          ],
          "name": "stdout"
        }
      ]
    },
    {
      "cell_type": "code",
      "metadata": {
        "colab": {
          "base_uri": "https://localhost:8080/"
        },
        "id": "Q0SJfDlCLcw3",
        "outputId": "47649350-dbc3-44f5-fc53-efb3f2acbd49"
      },
      "source": [
        "target"
      ],
      "execution_count": 12,
      "outputs": [
        {
          "output_type": "execute_result",
          "data": {
            "text/plain": [
              "array([0, 0, 0, 0, 0, 0, 0, 0, 0, 0, 0, 0, 0, 0, 0, 0, 0, 0, 0, 0, 0, 0,\n",
              "       0, 0, 0, 0, 0, 0, 0, 0, 1, 1, 1, 1, 1, 1, 1, 1, 1, 1, 1, 1, 1, 1,\n",
              "       1, 1, 1, 1, 1, 1, 1, 1, 1, 1, 1, 1, 1, 1, 1, 1, 2, 2, 2, 2, 2, 2,\n",
              "       2, 2, 2, 2, 2, 2, 2, 2, 2, 2, 2, 2, 2, 2, 2, 2, 2, 2, 2, 2, 2, 2,\n",
              "       2, 2])"
            ]
          },
          "metadata": {
            "tags": []
          },
          "execution_count": 12
        },
        {
          "output_type": "stream",
          "text": [
            "time: 7.58 ms (started: 2021-06-23 14:05:28 +00:00)\n"
          ],
          "name": "stdout"
        }
      ]
    },
    {
      "cell_type": "code",
      "metadata": {
        "colab": {
          "base_uri": "https://localhost:8080/",
          "height": 300
        },
        "id": "QgIeuEo8Lddp",
        "outputId": "68d33d5a-e7ba-4695-ac81-8b226607fa77"
      },
      "source": [
        "unique,count= np.unique(target,return_counts=True)\n",
        "plt.bar(CATEGORIES,count)"
      ],
      "execution_count": 13,
      "outputs": [
        {
          "output_type": "execute_result",
          "data": {
            "text/plain": [
              "<BarContainer object of 3 artists>"
            ]
          },
          "metadata": {
            "tags": []
          },
          "execution_count": 13
        },
        {
          "output_type": "display_data",
          "data": {
            "image/png": "[encoded data removed]",
            "text/plain": [
              "<Figure size 432x288 with 1 Axes>"
            ]
          },
          "metadata": {
            "tags": [],
            "needs_background": "light"
          }
        },
        {
          "output_type": "stream",
          "text": [
            "time: 154 ms (started: 2021-06-23 14:05:31 +00:00)\n"
          ],
          "name": "stdout"
        }
      ]
    },
    {
      "cell_type": "code",
      "metadata": {
        "colab": {
          "base_uri": "https://localhost:8080/"
        },
        "id": "eweipfHoLgQq",
        "outputId": "8fa5375b-0801-484b-8be0-177a2844a38e"
      },
      "source": [
        "from sklearn.model_selection import train_test_split\n",
        "x_train,x_test,y_train,y_test = train_test_split(flat_data,target,\n",
        "                                  test_size=0.3,random_state=109)"
      ],
      "execution_count": 14,
      "outputs": [
        {
          "output_type": "stream",
          "text": [
            "time: 315 ms (started: 2021-06-23 14:05:36 +00:00)\n"
          ],
          "name": "stdout"
        }
      ]
    },
    {
      "cell_type": "code",
      "metadata": {
        "colab": {
          "base_uri": "https://localhost:8080/"
        },
        "id": "GGG3TYUqLkZn",
        "outputId": "0f7b0ceb-b4aa-4a5b-ccf0-ca9b90067403"
      },
      "source": [
        "from sklearn.model_selection import GridSearchCV\n",
        "from sklearn import svm\n",
        "param_grid = [\n",
        "              {'C':[1,10,100,1000],'kernel':['linear']},\n",
        "              {'C':[1,10,100,1000],'gamma':[0.001,0.0001],'kernel':['rbf']},\n",
        "]\n",
        "\n",
        "svc= svm.SVC(probability=True)\n",
        "clf= GridSearchCV(svc,param_grid)\n",
        "clf.fit(x_train,y_train)"
      ],
      "execution_count": 15,
      "outputs": [
        {
          "output_type": "execute_result",
          "data": {
            "text/plain": [
              "GridSearchCV(cv=None, error_score=nan,\n",
              "             estimator=SVC(C=1.0, break_ties=False, cache_size=200,\n",
              "                           class_weight=None, coef0=0.0,\n",
              "                           decision_function_shape='ovr', degree=3,\n",
              "                           gamma='scale', kernel='rbf', max_iter=-1,\n",
              "                           probability=True, random_state=None, shrinking=True,\n",
              "                           tol=0.001, verbose=False),\n",
              "             iid='deprecated', n_jobs=None,\n",
              "             param_grid=[{'C': [1, 10, 100, 1000], 'kernel': ['linear']},\n",
              "                         {'C': [1, 10, 100, 1000], 'gamma': [0.001, 0.0001],\n",
              "                          'kernel': ['rbf']}],\n",
              "             pre_dispatch='2*n_jobs', refit=True, return_train_score=False,\n",
              "             scoring=None, verbose=0)"
            ]
          },
          "metadata": {
            "tags": []
          },
          "execution_count": 15
        },
        {
          "output_type": "stream",
          "text": [
            "time: 1min 49s (started: 2021-06-23 14:05:41 +00:00)\n"
          ],
          "name": "stdout"
        }
      ]
    },
    {
      "cell_type": "code",
      "metadata": {
        "colab": {
          "base_uri": "https://localhost:8080/"
        },
        "id": "xCkspV8OLoO6",
        "outputId": "2fe82272-919a-4fe8-fe9f-9acc9ccdbb75"
      },
      "source": [
        "y_pred = clf.predict(x_test)\n",
        "y_pred"
      ],
      "execution_count": 16,
      "outputs": [
        {
          "output_type": "execute_result",
          "data": {
            "text/plain": [
              "array([1, 0, 1, 2, 2, 1, 0, 1, 1, 0, 1, 0, 1, 2, 2, 1, 0, 1, 0, 1, 2, 2,\n",
              "       2, 0, 0, 0, 1])"
            ]
          },
          "metadata": {
            "tags": []
          },
          "execution_count": 16
        },
        {
          "output_type": "stream",
          "text": [
            "time: 170 ms (started: 2021-06-23 14:07:34 +00:00)\n"
          ],
          "name": "stdout"
        }
      ]
    },
    {
      "cell_type": "code",
      "metadata": {
        "colab": {
          "base_uri": "https://localhost:8080/"
        },
        "id": "V0i35bL9L-cx",
        "outputId": "a89125f5-248f-4fd3-b54c-916fd27d4583"
      },
      "source": [
        "y_test"
      ],
      "execution_count": 17,
      "outputs": [
        {
          "output_type": "execute_result",
          "data": {
            "text/plain": [
              "array([1, 0, 1, 2, 2, 1, 0, 1, 1, 0, 1, 0, 1, 2, 2, 1, 2, 1, 0, 1, 2, 2,\n",
              "       2, 0, 0, 0, 1])"
            ]
          },
          "metadata": {
            "tags": []
          },
          "execution_count": 17
        },
        {
          "output_type": "stream",
          "text": [
            "time: 8.8 ms (started: 2021-06-23 14:07:38 +00:00)\n"
          ],
          "name": "stdout"
        }
      ]
    },
    {
      "cell_type": "code",
      "metadata": {
        "colab": {
          "base_uri": "https://localhost:8080/"
        },
        "id": "7TB5WhCSMA6r",
        "outputId": "dd363129-3c6a-4681-eb09-4660b5f9ee2d"
      },
      "source": [
        "from sklearn.metrics import accuracy_score,confusion_matrix\n",
        "accuracy_score(y_pred,y_test)"
      ],
      "execution_count": 18,
      "outputs": [
        {
          "output_type": "execute_result",
          "data": {
            "text/plain": [
              "0.9629629629629629"
            ]
          },
          "metadata": {
            "tags": []
          },
          "execution_count": 18
        },
        {
          "output_type": "stream",
          "text": [
            "time: 9.52 ms (started: 2021-06-23 14:07:41 +00:00)\n"
          ],
          "name": "stdout"
        }
      ]
    },
    {
      "cell_type": "code",
      "metadata": {
        "colab": {
          "base_uri": "https://localhost:8080/"
        },
        "id": "0cQnn56GMDGN",
        "outputId": "24ccc1ff-3d13-4bbb-e0a1-3119e87a8c19"
      },
      "source": [
        "confusion_matrix(y_pred,y_test)"
      ],
      "execution_count": 19,
      "outputs": [
        {
          "output_type": "execute_result",
          "data": {
            "text/plain": [
              "array([[ 8,  0,  1],\n",
              "       [ 0, 11,  0],\n",
              "       [ 0,  0,  7]])"
            ]
          },
          "metadata": {
            "tags": []
          },
          "execution_count": 19
        },
        {
          "output_type": "stream",
          "text": [
            "time: 5.48 ms (started: 2021-06-23 14:07:44 +00:00)\n"
          ],
          "name": "stdout"
        }
      ]
    },
    {
      "cell_type": "code",
      "metadata": {
        "colab": {
          "base_uri": "https://localhost:8080/"
        },
        "id": "bUDbzG54MFid",
        "outputId": "0405f1f2-ae32-49d9-8d86-ed5138e8aa39"
      },
      "source": [
        "import pickle\n",
        "pickle.dump(clf,open('img_model.p','wb'))"
      ],
      "execution_count": 20,
      "outputs": [
        {
          "output_type": "stream",
          "text": [
            "time: 37.7 ms (started: 2021-06-23 14:07:47 +00:00)\n"
          ],
          "name": "stdout"
        }
      ]
    },
    {
      "cell_type": "code",
      "metadata": {
        "colab": {
          "base_uri": "https://localhost:8080/"
        },
        "id": "12mqxRAuMIex",
        "outputId": "87a7bb4a-88fc-413f-c08b-a896f9da74cf"
      },
      "source": [
        "model= pickle.load(open('img_model.p','rb'))"
      ],
      "execution_count": 21,
      "outputs": [
        {
          "output_type": "stream",
          "text": [
            "time: 21.9 ms (started: 2021-06-23 14:07:50 +00:00)\n"
          ],
          "name": "stdout"
        }
      ]
    },
    {
      "cell_type": "code",
      "metadata": {
        "colab": {
          "base_uri": "https://localhost:8080/",
          "height": 359
        },
        "id": "Vu_sAxy8MZfA",
        "outputId": "16f493f0-2ae8-4b93-f7ea-54cc81db194c"
      },
      "source": [
        "flat_data = []\n",
        "url = input('Enter your URL')\n",
        "img = imread(url)\n",
        "\n",
        "img_resized = resize(img,(150,150,3))\n",
        "flat_data.append(img_resized.flatten())\n",
        "flat_data = np.array(flat_data)\n",
        "print(img.shape)\n",
        "plt.imshow(img_resized)\n",
        "y_out = model.predict(flat_data)\n",
        "y_out = CATEGORIES[y_out[0]]\n",
        "print(f' PREDICTED OUTPUT: {y_out}')"
      ],
      "execution_count": 25,
      "outputs": [
        {
          "output_type": "stream",
          "text": [
            "Enter your URLhttps://www.sbu.it/1044-zoom_image/00483-eng-original-indigo-dyed-japanese-cotton-selvedge-denim-dark-blue-jeans.jpg\n",
            "(1300, 865, 3)\n",
            " PREDICTED OUTPUT: Jeans\n"
          ],
          "name": "stdout"
        },
        {
          "output_type": "display_data",
          "data": {
            "image/png": "[encoded data removed]",
            "text/plain": [
              "<Figure size 432x288 with 1 Axes>"
            ]
          },
          "metadata": {
            "tags": [],
            "needs_background": "light"
          }
        },
        {
          "output_type": "stream",
          "text": [
            "time: 5.41 s (started: 2021-06-23 14:13:48 +00:00)\n"
          ],
          "name": "stdout"
        }
      ]
    }
  ]
}